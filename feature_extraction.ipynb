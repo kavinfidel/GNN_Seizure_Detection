{
 "cells": [
  {
   "cell_type": "markdown",
   "metadata": {},
   "source": [
    "# Feature Extraction"
   ]
  },
  {
   "cell_type": "code",
   "execution_count": 87,
   "metadata": {},
   "outputs": [],
   "source": [
    "import os\n",
    "import mne \n",
    "import pywt\n",
    "import numpy as np\n",
    "import pandas as pd\n",
    "import scipy\n",
    "import matplotlib.pyplot as plt\n",
    "import scipy.stats as stats\n",
    "from scipy.signal import welch\n",
    "from scipy.integrate import simpson\n",
    "from scipy.stats import skew"
   ]
  },
  {
   "cell_type": "code",
   "execution_count": null,
   "metadata": {},
   "outputs": [],
   "source": [
    "load_dir = r\"C:\\Users\\ADMIN\\Documents\\Summerof2024\\Epilepsy_Detection\\Epochs\"\n",
    "loaded_epoch_list = []\n",
    "\n",
    "for filename in os.listdir(load_dir):\n",
    "    if filename.endswith(\"_epo.fif\"):\n",
    "        load_path = os.path.join(load_dir, filename)\n",
    "        epochs = mne.read_epochs(load_path, preload = True)\n",
    "        loaded_epoch_list.append(epochs)\n",
    "\n",
    "print(\"Epoch list loaded\")"
   ]
  },
  {
   "cell_type": "code",
   "execution_count": 89,
   "metadata": {},
   "outputs": [],
   "source": [
    "def time_domain_features(epochs):\n",
    " \n",
    "\n",
    "  features = [] # feature list\n",
    "  epoch_data = epochs.get_data()\n",
    "  n_epochs, n_channels, n_times = epoch_data.shape\n",
    "  f_dict = {}\n",
    "  for ch in range(n_channels): # Iterating through each channel\n",
    "    data = epoch_data[0,ch,:]\n",
    "    f_dict[f'ch{ch}'] = np.mean(data)                           # Index 0 = Mean\n",
    "  features.append(f_dict)\n",
    "\n",
    "  f_dict = {}\n",
    "  for ch in range(n_channels):\n",
    "    data = epoch_data[0,ch,:]                                   # Index 2 = STD\n",
    "    f_dict[f'ch{ch}']  = np.std(data)\n",
    "  features.append(f_dict)\n",
    "\n",
    "  f_dict = {}\n",
    "  for ch in range(n_channels):\n",
    "    data = epoch_data[0,ch,:]\n",
    "    f_dict[f'ch{ch}']  = stats.skew(data)                       # Index 3 = skew\n",
    "  features.append(f_dict)\n",
    "\n",
    "  f_dict = {}\n",
    "  for ch in range(n_channels):\n",
    "    data = epoch_data[0,ch,:]\n",
    "    f_dict[f'ch{ch}']  = stats.kurtosis(data)                # Index 4 = Kurtosis\n",
    "  features.append(f_dict) # Each element in the list is a feature dict of each channel\n",
    "\n",
    "  return features"
   ]
  },
  {
   "cell_type": "code",
   "execution_count": 90,
   "metadata": {},
   "outputs": [],
   "source": [
    "\n",
    "def BandPower(data, sfreq, band, window_sec = None, relative = False):\n",
    "  if band == 'delta':\n",
    "    low, high = 0.5, 4\n",
    "  elif band == 'theta':\n",
    "    low, high = 4, 8\n",
    "  elif band == 'alpha':\n",
    "    low, high = 8, 12\n",
    "  elif band == 'beta':\n",
    "    low, high = 12, 30\n",
    "  elif band == 'gamma':\n",
    "    low, high = 30, 100\n",
    "  else:\n",
    "    raise ValueError('Invalid band')\n",
    "\n",
    "  nperseg = (2/low) * sfreq\n",
    "\n",
    "  freq, psd = welch(data, sfreq, nperseg = nperseg)\n",
    "\n",
    "  freq_res = freq[1] - freq[0]\n",
    "\n",
    "  idx_band = np.logical_and(freq >= low, freq <= high)\n",
    "\n",
    "  bp = simpson(psd[idx_band], dx = freq_res)\n",
    "\n",
    "  if relative:\n",
    "    bp = bp/simpson(psd, dx = freq_res)\n",
    "  return bp\n"
   ]
  },
  {
   "cell_type": "code",
   "execution_count": null,
   "metadata": {},
   "outputs": [],
   "source": [
    "# change the frequency based separation: \n",
    "\n",
    "def time_features_aggregation(epoch):\n",
    "\n",
    "    time_features = time_domain_features(epoch)\n",
    "\n",
    "    stats = ['Mean','Std','Skew','Kurtosis']\n",
    "   \n",
    "   \n",
    "    pd_list = []\n",
    "\n",
    "    for j in range(len(stats)):\n",
    "        c = pd.DataFrame.from_dict(time_features, columns = [stats[j]], orient= 'index')\n",
    "        pd_list.append(c)\n",
    "    print(pd_list)\n",
    "    result_df = pd.concat(pd_list, axis = 1)\n",
    "    return result_df\n",
    "\n",
    "def band_feature_aggregation(epoch):\n",
    "    band_list = ['alpha', 'beta', 'gamma', 'theta', 'delta']\n",
    "    Band_feature = []\n",
    "    epoch_data = epoch.get_data()\n",
    "#channel_data =epoch_data[0,0,:]\n",
    "    for j in range(len(band_list)):\n",
    "        Band_dict = {}\n",
    "        for i in range(23):\n",
    "            d = BandPower(data = epoch_data[0,i,:],sfreq = 210 , band = band_list[j])\n",
    "            Band_dict[f'ch{i}'] = d\n",
    "        Band_feature.append(Band_dict)\n",
    "    \n",
    "# Creating Dataframe\n",
    "    band_columns = []\n",
    "    for i in range(len(band_list)):\n",
    "        c = pd.DataFrame.from_dict(Band_feature[i], columns = [band_list[i]], \n",
    "                                   orient = 'index')\n",
    "        band_columns.append(c)\n",
    "    Band_feature_df = pd.concat(band_columns, axis = 1)\n",
    "    return Band_feature_df\n",
    "\n",
    "def Merge_csv(time_feature_df, Band_feature_df, index ):\n",
    "    df_list = [time_feature_df, Band_feature_df]\n",
    "    feature_vector_df = pd.concat(df_list, axis = 1)\n",
    "    feature_vector_df.to_csv(rf\"C:\\Users\\ADMIN\\Documents\\Summerof2024\\Epilepsy_Detection\\\\Feature Vector\\Ch{index}_feature_df.csv\")\n",
    "    return feature_vector_df\n",
    "\n",
    "for i, item in enumerate(loaded_epoch_list):\n",
    "   time_df = time_features_aggregation(item)\n",
    "   band_df = band_feature_aggregation(item)\n",
    "   Merge_csv(time_feature_df = time_df, Band_feature_df = band_df, index = i)\n",
    "   "
   ]
  },
  {
   "cell_type": "code",
   "execution_count": null,
   "metadata": {},
   "outputs": [],
   "source": [
    "for item in loaded_epoch_list:\n",
    "    print(len(item.info['ch_names']))"
   ]
  },
  {
   "cell_type": "code",
   "execution_count": null,
   "metadata": {},
   "outputs": [],
   "source": []
  }
 ],
 "metadata": {
  "kernelspec": {
   "display_name": "Python 3",
   "language": "python",
   "name": "python3"
  },
  "language_info": {
   "codemirror_mode": {
    "name": "ipython",
    "version": 3
   },
   "file_extension": ".py",
   "mimetype": "text/x-python",
   "name": "python",
   "nbconvert_exporter": "python",
   "pygments_lexer": "ipython3",
   "version": "3.12.0"
  }
 },
 "nbformat": 4,
 "nbformat_minor": 2
}
